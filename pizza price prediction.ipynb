{
 "cells": [
  {
   "cell_type": "markdown",
   "id": "cfec1191",
   "metadata": {},
   "source": [
    "## Import Necessary Libraries"
   ]
  },
  {
   "cell_type": "code",
   "execution_count": 1,
   "id": "b276182e",
   "metadata": {},
   "outputs": [],
   "source": [
    "import pandas as pd\n",
    "import numpy as np\n",
    "import matplotlib.pyplot as plt\n",
    "import seaborn as sns"
   ]
  },
  {
   "cell_type": "markdown",
   "id": "a39b2bb5",
   "metadata": {},
   "source": [
    "## Load the Dataset"
   ]
  },
  {
   "cell_type": "code",
   "execution_count": 2,
   "id": "b2291626",
   "metadata": {},
   "outputs": [],
   "source": [
    "df=pd.read_csv(\"D:\\Python\\Datasets for ds\\pizza_v2.csv\")"
   ]
  },
  {
   "cell_type": "code",
   "execution_count": 3,
   "id": "81136ff8",
   "metadata": {},
   "outputs": [
    {
     "data": {
      "text/html": [
       "<div>\n",
       "<style scoped>\n",
       "    .dataframe tbody tr th:only-of-type {\n",
       "        vertical-align: middle;\n",
       "    }\n",
       "\n",
       "    .dataframe tbody tr th {\n",
       "        vertical-align: top;\n",
       "    }\n",
       "\n",
       "    .dataframe thead th {\n",
       "        text-align: right;\n",
       "    }\n",
       "</style>\n",
       "<table border=\"1\" class=\"dataframe\">\n",
       "  <thead>\n",
       "    <tr style=\"text-align: right;\">\n",
       "      <th></th>\n",
       "      <th>company</th>\n",
       "      <th>price_cad</th>\n",
       "      <th>diameter</th>\n",
       "      <th>topping</th>\n",
       "      <th>variant</th>\n",
       "      <th>size</th>\n",
       "      <th>extra_sauce</th>\n",
       "      <th>extra_cheese</th>\n",
       "      <th>extra_mushrooms</th>\n",
       "    </tr>\n",
       "  </thead>\n",
       "  <tbody>\n",
       "    <tr>\n",
       "      <th>0</th>\n",
       "      <td>A</td>\n",
       "      <td>$29</td>\n",
       "      <td>22 inch</td>\n",
       "      <td>chicken</td>\n",
       "      <td>double_signature</td>\n",
       "      <td>jumbo</td>\n",
       "      <td>yes</td>\n",
       "      <td>yes</td>\n",
       "      <td>no</td>\n",
       "    </tr>\n",
       "    <tr>\n",
       "      <th>1</th>\n",
       "      <td>A</td>\n",
       "      <td>$25</td>\n",
       "      <td>20 inch</td>\n",
       "      <td>papperoni</td>\n",
       "      <td>double_signature</td>\n",
       "      <td>jumbo</td>\n",
       "      <td>yes</td>\n",
       "      <td>yes</td>\n",
       "      <td>no</td>\n",
       "    </tr>\n",
       "    <tr>\n",
       "      <th>2</th>\n",
       "      <td>A</td>\n",
       "      <td>$19</td>\n",
       "      <td>16 inch</td>\n",
       "      <td>mushrooms</td>\n",
       "      <td>double_signature</td>\n",
       "      <td>reguler</td>\n",
       "      <td>yes</td>\n",
       "      <td>yes</td>\n",
       "      <td>yes</td>\n",
       "    </tr>\n",
       "    <tr>\n",
       "      <th>3</th>\n",
       "      <td>A</td>\n",
       "      <td>$22</td>\n",
       "      <td>14 inch</td>\n",
       "      <td>smoked_beef</td>\n",
       "      <td>double_signature</td>\n",
       "      <td>reguler</td>\n",
       "      <td>yes</td>\n",
       "      <td>no</td>\n",
       "      <td>yes</td>\n",
       "    </tr>\n",
       "    <tr>\n",
       "      <th>4</th>\n",
       "      <td>A</td>\n",
       "      <td>$30</td>\n",
       "      <td>18 inch</td>\n",
       "      <td>mozzarella</td>\n",
       "      <td>double_signature</td>\n",
       "      <td>jumbo</td>\n",
       "      <td>yes</td>\n",
       "      <td>no</td>\n",
       "      <td>yes</td>\n",
       "    </tr>\n",
       "  </tbody>\n",
       "</table>\n",
       "</div>"
      ],
      "text/plain": [
       "  company price_cad diameter      topping           variant     size  \\\n",
       "0       A      $29   22 inch      chicken  double_signature    jumbo   \n",
       "1       A      $25   20 inch    papperoni  double_signature    jumbo   \n",
       "2       A      $19   16 inch    mushrooms  double_signature  reguler   \n",
       "3       A      $22   14 inch  smoked_beef  double_signature  reguler   \n",
       "4       A      $30   18 inch   mozzarella  double_signature    jumbo   \n",
       "\n",
       "  extra_sauce extra_cheese extra_mushrooms  \n",
       "0         yes          yes              no  \n",
       "1         yes          yes              no  \n",
       "2         yes          yes             yes  \n",
       "3         yes           no             yes  \n",
       "4         yes           no             yes  "
      ]
     },
     "execution_count": 3,
     "metadata": {},
     "output_type": "execute_result"
    }
   ],
   "source": [
    "df.head()"
   ]
  },
  {
   "cell_type": "markdown",
   "id": "e0a970ee",
   "metadata": {},
   "source": [
    "## Understanding the Dataset"
   ]
  },
  {
   "cell_type": "markdown",
   "id": "37554248",
   "metadata": {},
   "source": [
    "### Data types information"
   ]
  },
  {
   "cell_type": "code",
   "execution_count": 4,
   "id": "3788518c",
   "metadata": {},
   "outputs": [
    {
     "name": "stdout",
     "output_type": "stream",
     "text": [
      "<class 'pandas.core.frame.DataFrame'>\n",
      "RangeIndex: 129 entries, 0 to 128\n",
      "Data columns (total 9 columns):\n",
      " #   Column           Non-Null Count  Dtype \n",
      "---  ------           --------------  ----- \n",
      " 0   company          129 non-null    object\n",
      " 1   price_cad        129 non-null    object\n",
      " 2   diameter         129 non-null    object\n",
      " 3   topping          129 non-null    object\n",
      " 4   variant          129 non-null    object\n",
      " 5   size             129 non-null    object\n",
      " 6   extra_sauce      129 non-null    object\n",
      " 7   extra_cheese     129 non-null    object\n",
      " 8   extra_mushrooms  129 non-null    object\n",
      "dtypes: object(9)\n",
      "memory usage: 9.2+ KB\n"
     ]
    }
   ],
   "source": [
    "df.info()"
   ]
  },
  {
   "cell_type": "markdown",
   "id": "7b9242ac",
   "metadata": {},
   "source": [
    "### SummaryStatistics"
   ]
  },
  {
   "cell_type": "code",
   "execution_count": 5,
   "id": "9c361cfd",
   "metadata": {},
   "outputs": [
    {
     "data": {
      "text/html": [
       "<div>\n",
       "<style scoped>\n",
       "    .dataframe tbody tr th:only-of-type {\n",
       "        vertical-align: middle;\n",
       "    }\n",
       "\n",
       "    .dataframe tbody tr th {\n",
       "        vertical-align: top;\n",
       "    }\n",
       "\n",
       "    .dataframe thead th {\n",
       "        text-align: right;\n",
       "    }\n",
       "</style>\n",
       "<table border=\"1\" class=\"dataframe\">\n",
       "  <thead>\n",
       "    <tr style=\"text-align: right;\">\n",
       "      <th></th>\n",
       "      <th>company</th>\n",
       "      <th>price_cad</th>\n",
       "      <th>diameter</th>\n",
       "      <th>topping</th>\n",
       "      <th>variant</th>\n",
       "      <th>size</th>\n",
       "      <th>extra_sauce</th>\n",
       "      <th>extra_cheese</th>\n",
       "      <th>extra_mushrooms</th>\n",
       "    </tr>\n",
       "  </thead>\n",
       "  <tbody>\n",
       "    <tr>\n",
       "      <th>count</th>\n",
       "      <td>129</td>\n",
       "      <td>129</td>\n",
       "      <td>129</td>\n",
       "      <td>129</td>\n",
       "      <td>129</td>\n",
       "      <td>129</td>\n",
       "      <td>129</td>\n",
       "      <td>129</td>\n",
       "      <td>129</td>\n",
       "    </tr>\n",
       "    <tr>\n",
       "      <th>unique</th>\n",
       "      <td>5</td>\n",
       "      <td>17</td>\n",
       "      <td>12</td>\n",
       "      <td>12</td>\n",
       "      <td>20</td>\n",
       "      <td>6</td>\n",
       "      <td>2</td>\n",
       "      <td>2</td>\n",
       "      <td>2</td>\n",
       "    </tr>\n",
       "    <tr>\n",
       "      <th>top</th>\n",
       "      <td>C</td>\n",
       "      <td>$14</td>\n",
       "      <td>12 inch</td>\n",
       "      <td>chicken</td>\n",
       "      <td>classic</td>\n",
       "      <td>medium</td>\n",
       "      <td>yes</td>\n",
       "      <td>yes</td>\n",
       "      <td>yes</td>\n",
       "    </tr>\n",
       "    <tr>\n",
       "      <th>freq</th>\n",
       "      <td>30</td>\n",
       "      <td>18</td>\n",
       "      <td>49</td>\n",
       "      <td>29</td>\n",
       "      <td>30</td>\n",
       "      <td>41</td>\n",
       "      <td>76</td>\n",
       "      <td>86</td>\n",
       "      <td>72</td>\n",
       "    </tr>\n",
       "  </tbody>\n",
       "</table>\n",
       "</div>"
      ],
      "text/plain": [
       "       company price_cad diameter  topping  variant    size extra_sauce  \\\n",
       "count      129       129      129      129      129     129         129   \n",
       "unique       5        17       12       12       20       6           2   \n",
       "top          C      $14   12 inch  chicken  classic  medium         yes   \n",
       "freq        30        18       49       29       30      41          76   \n",
       "\n",
       "       extra_cheese extra_mushrooms  \n",
       "count           129             129  \n",
       "unique            2               2  \n",
       "top             yes             yes  \n",
       "freq             86              72  "
      ]
     },
     "execution_count": 5,
     "metadata": {},
     "output_type": "execute_result"
    }
   ],
   "source": [
    "df.describe()"
   ]
  },
  {
   "cell_type": "markdown",
   "id": "adffdd26",
   "metadata": {},
   "source": [
    "### Check for unique values"
   ]
  },
  {
   "cell_type": "code",
   "execution_count": 6,
   "id": "5cbc0bfd",
   "metadata": {},
   "outputs": [
    {
     "data": {
      "text/plain": [
       "company             5\n",
       "price_cad          17\n",
       "diameter           12\n",
       "topping            12\n",
       "variant            20\n",
       "size                6\n",
       "extra_sauce         2\n",
       "extra_cheese        2\n",
       "extra_mushrooms     2\n",
       "dtype: int64"
      ]
     },
     "execution_count": 6,
     "metadata": {},
     "output_type": "execute_result"
    }
   ],
   "source": [
    "df.nunique()"
   ]
  },
  {
   "cell_type": "markdown",
   "id": "003e1a8d",
   "metadata": {},
   "source": [
    "### Checking for null values"
   ]
  },
  {
   "cell_type": "code",
   "execution_count": 7,
   "id": "17da4f81",
   "metadata": {},
   "outputs": [
    {
     "data": {
      "text/plain": [
       "company            0\n",
       "price_cad          0\n",
       "diameter           0\n",
       "topping            0\n",
       "variant            0\n",
       "size               0\n",
       "extra_sauce        0\n",
       "extra_cheese       0\n",
       "extra_mushrooms    0\n",
       "dtype: int64"
      ]
     },
     "execution_count": 7,
     "metadata": {},
     "output_type": "execute_result"
    }
   ],
   "source": [
    "df.isnull().sum()"
   ]
  },
  {
   "cell_type": "markdown",
   "id": "879b1afb",
   "metadata": {},
   "source": [
    "## Data Cleaning and preprocessing"
   ]
  },
  {
   "cell_type": "code",
   "execution_count": 8,
   "id": "b866cd5e",
   "metadata": {},
   "outputs": [
    {
     "data": {
      "text/html": [
       "<div>\n",
       "<style scoped>\n",
       "    .dataframe tbody tr th:only-of-type {\n",
       "        vertical-align: middle;\n",
       "    }\n",
       "\n",
       "    .dataframe tbody tr th {\n",
       "        vertical-align: top;\n",
       "    }\n",
       "\n",
       "    .dataframe thead th {\n",
       "        text-align: right;\n",
       "    }\n",
       "</style>\n",
       "<table border=\"1\" class=\"dataframe\">\n",
       "  <thead>\n",
       "    <tr style=\"text-align: right;\">\n",
       "      <th></th>\n",
       "      <th>company</th>\n",
       "      <th>price</th>\n",
       "      <th>diameter</th>\n",
       "      <th>topping</th>\n",
       "      <th>variant</th>\n",
       "      <th>size</th>\n",
       "      <th>extra_sauce</th>\n",
       "      <th>extra_cheese</th>\n",
       "      <th>extra_mushrooms</th>\n",
       "    </tr>\n",
       "  </thead>\n",
       "  <tbody>\n",
       "    <tr>\n",
       "      <th>0</th>\n",
       "      <td>A</td>\n",
       "      <td>$29</td>\n",
       "      <td>22 inch</td>\n",
       "      <td>chicken</td>\n",
       "      <td>double_signature</td>\n",
       "      <td>jumbo</td>\n",
       "      <td>yes</td>\n",
       "      <td>yes</td>\n",
       "      <td>no</td>\n",
       "    </tr>\n",
       "    <tr>\n",
       "      <th>1</th>\n",
       "      <td>A</td>\n",
       "      <td>$25</td>\n",
       "      <td>20 inch</td>\n",
       "      <td>papperoni</td>\n",
       "      <td>double_signature</td>\n",
       "      <td>jumbo</td>\n",
       "      <td>yes</td>\n",
       "      <td>yes</td>\n",
       "      <td>no</td>\n",
       "    </tr>\n",
       "    <tr>\n",
       "      <th>2</th>\n",
       "      <td>A</td>\n",
       "      <td>$19</td>\n",
       "      <td>16 inch</td>\n",
       "      <td>mushrooms</td>\n",
       "      <td>double_signature</td>\n",
       "      <td>reguler</td>\n",
       "      <td>yes</td>\n",
       "      <td>yes</td>\n",
       "      <td>yes</td>\n",
       "    </tr>\n",
       "    <tr>\n",
       "      <th>3</th>\n",
       "      <td>A</td>\n",
       "      <td>$22</td>\n",
       "      <td>14 inch</td>\n",
       "      <td>smoked_beef</td>\n",
       "      <td>double_signature</td>\n",
       "      <td>reguler</td>\n",
       "      <td>yes</td>\n",
       "      <td>no</td>\n",
       "      <td>yes</td>\n",
       "    </tr>\n",
       "    <tr>\n",
       "      <th>4</th>\n",
       "      <td>A</td>\n",
       "      <td>$30</td>\n",
       "      <td>18 inch</td>\n",
       "      <td>mozzarella</td>\n",
       "      <td>double_signature</td>\n",
       "      <td>jumbo</td>\n",
       "      <td>yes</td>\n",
       "      <td>no</td>\n",
       "      <td>yes</td>\n",
       "    </tr>\n",
       "  </tbody>\n",
       "</table>\n",
       "</div>"
      ],
      "text/plain": [
       "  company  price diameter      topping           variant     size extra_sauce  \\\n",
       "0       A   $29   22 inch      chicken  double_signature    jumbo         yes   \n",
       "1       A   $25   20 inch    papperoni  double_signature    jumbo         yes   \n",
       "2       A   $19   16 inch    mushrooms  double_signature  reguler         yes   \n",
       "3       A   $22   14 inch  smoked_beef  double_signature  reguler         yes   \n",
       "4       A   $30   18 inch   mozzarella  double_signature    jumbo         yes   \n",
       "\n",
       "  extra_cheese extra_mushrooms  \n",
       "0          yes              no  \n",
       "1          yes              no  \n",
       "2          yes             yes  \n",
       "3           no             yes  \n",
       "4           no             yes  "
      ]
     },
     "execution_count": 8,
     "metadata": {},
     "output_type": "execute_result"
    }
   ],
   "source": [
    "df.rename({'price_cad': 'price'}, axis = 1, inplace = 'true')\n",
    "df.head()"
   ]
  },
  {
   "cell_type": "code",
   "execution_count": 9,
   "id": "a95eab03",
   "metadata": {},
   "outputs": [
    {
     "name": "stderr",
     "output_type": "stream",
     "text": [
      "C:\\Users\\bhava\\AppData\\Local\\Temp\\ipykernel_11032\\3374863858.py:1: FutureWarning: The default value of regex will change from True to False in a future version. In addition, single character regular expressions will *not* be treated as literal strings when regex=True.\n",
      "  df['price'] = df['price'].str.replace('$','')\n"
     ]
    }
   ],
   "source": [
    "df['price'] = df['price'].str.replace('$','')\n",
    "df['size'] = df['size'].str.replace('reguler','regular')\n",
    "df['diameter'] = df['diameter'].str.replace('inch','')\n",
    "df['variant'] = df['variant'].str.replace('spicy tuna','spicy_tuna')\n",
    "df['variant'] = df['variant'].str.replace('extravaganza','extra_vaganza')"
   ]
  },
  {
   "cell_type": "code",
   "execution_count": 10,
   "id": "90f42cb5",
   "metadata": {},
   "outputs": [
    {
     "data": {
      "text/html": [
       "<div>\n",
       "<style scoped>\n",
       "    .dataframe tbody tr th:only-of-type {\n",
       "        vertical-align: middle;\n",
       "    }\n",
       "\n",
       "    .dataframe tbody tr th {\n",
       "        vertical-align: top;\n",
       "    }\n",
       "\n",
       "    .dataframe thead th {\n",
       "        text-align: right;\n",
       "    }\n",
       "</style>\n",
       "<table border=\"1\" class=\"dataframe\">\n",
       "  <thead>\n",
       "    <tr style=\"text-align: right;\">\n",
       "      <th></th>\n",
       "      <th>company</th>\n",
       "      <th>price</th>\n",
       "      <th>diameter</th>\n",
       "      <th>topping</th>\n",
       "      <th>variant</th>\n",
       "      <th>size</th>\n",
       "      <th>extra_sauce</th>\n",
       "      <th>extra_cheese</th>\n",
       "      <th>extra_mushrooms</th>\n",
       "    </tr>\n",
       "  </thead>\n",
       "  <tbody>\n",
       "    <tr>\n",
       "      <th>0</th>\n",
       "      <td>A</td>\n",
       "      <td>29</td>\n",
       "      <td>22</td>\n",
       "      <td>chicken</td>\n",
       "      <td>double_signature</td>\n",
       "      <td>jumbo</td>\n",
       "      <td>yes</td>\n",
       "      <td>yes</td>\n",
       "      <td>no</td>\n",
       "    </tr>\n",
       "    <tr>\n",
       "      <th>1</th>\n",
       "      <td>A</td>\n",
       "      <td>25</td>\n",
       "      <td>20</td>\n",
       "      <td>papperoni</td>\n",
       "      <td>double_signature</td>\n",
       "      <td>jumbo</td>\n",
       "      <td>yes</td>\n",
       "      <td>yes</td>\n",
       "      <td>no</td>\n",
       "    </tr>\n",
       "    <tr>\n",
       "      <th>2</th>\n",
       "      <td>A</td>\n",
       "      <td>19</td>\n",
       "      <td>16</td>\n",
       "      <td>mushrooms</td>\n",
       "      <td>double_signature</td>\n",
       "      <td>regular</td>\n",
       "      <td>yes</td>\n",
       "      <td>yes</td>\n",
       "      <td>yes</td>\n",
       "    </tr>\n",
       "    <tr>\n",
       "      <th>3</th>\n",
       "      <td>A</td>\n",
       "      <td>22</td>\n",
       "      <td>14</td>\n",
       "      <td>smoked_beef</td>\n",
       "      <td>double_signature</td>\n",
       "      <td>regular</td>\n",
       "      <td>yes</td>\n",
       "      <td>no</td>\n",
       "      <td>yes</td>\n",
       "    </tr>\n",
       "    <tr>\n",
       "      <th>4</th>\n",
       "      <td>A</td>\n",
       "      <td>30</td>\n",
       "      <td>18</td>\n",
       "      <td>mozzarella</td>\n",
       "      <td>double_signature</td>\n",
       "      <td>jumbo</td>\n",
       "      <td>yes</td>\n",
       "      <td>no</td>\n",
       "      <td>yes</td>\n",
       "    </tr>\n",
       "  </tbody>\n",
       "</table>\n",
       "</div>"
      ],
      "text/plain": [
       "  company price diameter      topping           variant     size extra_sauce  \\\n",
       "0       A   29       22       chicken  double_signature    jumbo         yes   \n",
       "1       A   25       20     papperoni  double_signature    jumbo         yes   \n",
       "2       A   19       16     mushrooms  double_signature  regular         yes   \n",
       "3       A   22       14   smoked_beef  double_signature  regular         yes   \n",
       "4       A   30       18    mozzarella  double_signature    jumbo         yes   \n",
       "\n",
       "  extra_cheese extra_mushrooms  \n",
       "0          yes              no  \n",
       "1          yes              no  \n",
       "2          yes             yes  \n",
       "3           no             yes  \n",
       "4           no             yes  "
      ]
     },
     "execution_count": 10,
     "metadata": {},
     "output_type": "execute_result"
    }
   ],
   "source": [
    "df.head()"
   ]
  },
  {
   "cell_type": "code",
   "execution_count": 11,
   "id": "93ea8fc1",
   "metadata": {},
   "outputs": [
    {
     "data": {
      "text/plain": [
       "company             object\n",
       "price                int32\n",
       "diameter           float64\n",
       "topping             object\n",
       "variant             object\n",
       "size                object\n",
       "extra_sauce           bool\n",
       "extra_cheese          bool\n",
       "extra_mushrooms       bool\n",
       "dtype: object"
      ]
     },
     "execution_count": 11,
     "metadata": {},
     "output_type": "execute_result"
    }
   ],
   "source": [
    "df[['extra_sauce', 'extra_cheese', 'extra_mushrooms']] = df[['extra_sauce', 'extra_cheese', 'extra_mushrooms']].astype(bool)\n",
    "df[['price']] = df[['price']].astype(int)\n",
    "df[['diameter']] = df[['diameter']].astype(float)\n",
    "df.dtypes"
   ]
  },
  {
   "cell_type": "markdown",
   "id": "920c8492",
   "metadata": {},
   "source": [
    "## Visualisations"
   ]
  },
  {
   "cell_type": "code",
   "execution_count": 12,
   "id": "0bf9ccc7",
   "metadata": {},
   "outputs": [
    {
     "name": "stdout",
     "output_type": "stream",
     "text": [
      "12.0    49\n",
      "14.0    24\n",
      "8.5     22\n",
      "17.0    10\n",
      "18.5     6\n",
      "16.0     5\n",
      "8.0      4\n",
      "16.5     4\n",
      "22.0     3\n",
      "20.0     1\n",
      "18.0     1\n",
      "Name: diameter, dtype: int64\n"
     ]
    },
    {
     "data": {
      "text/plain": [
       "<Axes: >"
      ]
     },
     "execution_count": 12,
     "metadata": {},
     "output_type": "execute_result"
    },
    {
     "data": {
      "image/png": "[encoded data removed]",
      "text/plain": [
       "<Figure size 640x480 with 1 Axes>"
      ]
     },
     "metadata": {},
     "output_type": "display_data"
    }
   ],
   "source": [
    "print(df['diameter'].value_counts())\n",
    "df['diameter'].value_counts().plot.bar()"
   ]
  },
  {
   "cell_type": "code",
   "execution_count": 13,
   "id": "1b6c0805",
   "metadata": {},
   "outputs": [
    {
     "data": {
      "text/plain": [
       "<Axes: >"
      ]
     },
     "execution_count": 13,
     "metadata": {},
     "output_type": "execute_result"
    },
    {
     "data": {
      "image/png": "[encoded data removed]",
      "text/plain": [
       "<Figure size 640x480 with 1 Axes>"
      ]
     },
     "metadata": {},
     "output_type": "display_data"
    }
   ],
   "source": [
    "cnt_size=df['size'].value_counts()\n",
    "df['size'].value_counts().plot.bar()\n"
   ]
  },
  {
   "cell_type": "code",
   "execution_count": 14,
   "id": "0ee7f619",
   "metadata": {},
   "outputs": [
    {
     "data": {
      "text/plain": [
       "<Axes: xlabel='count', ylabel='variant'>"
      ]
     },
     "execution_count": 14,
     "metadata": {},
     "output_type": "execute_result"
    },
    {
     "data": {
      "image/png": "[encoded data removed]",
      "text/plain": [
       "<Figure size 640x480 with 1 Axes>"
      ]
     },
     "metadata": {},
     "output_type": "display_data"
    }
   ],
   "source": [
    "sns.countplot(y = df['variant'])"
   ]
  },
  {
   "cell_type": "code",
   "execution_count": 15,
   "id": "8a7ad07c",
   "metadata": {},
   "outputs": [
    {
     "data": {
      "text/plain": [
       "<Axes: xlabel='company', ylabel='price'>"
      ]
     },
     "execution_count": 15,
     "metadata": {},
     "output_type": "execute_result"
    },
    {
     "data": {
      "image/png": "[encoded data removed]",
      "text/plain": [
       "<Figure size 640x480 with 1 Axes>"
      ]
     },
     "metadata": {},
     "output_type": "display_data"
    }
   ],
   "source": [
    "sns.violinplot(x = df['company'], y = df['price'])"
   ]
  },
  {
   "cell_type": "code",
   "execution_count": 16,
   "id": "c56edfb3",
   "metadata": {},
   "outputs": [
    {
     "data": {
      "text/plain": [
       "<Axes: xlabel='price', ylabel='count'>"
      ]
     },
     "execution_count": 16,
     "metadata": {},
     "output_type": "execute_result"
    },
    {
     "data": {
      "image/png": "[encoded data removed]",
      "text/plain": [
       "<Figure size 640x480 with 1 Axes>"
      ]
     },
     "metadata": {},
     "output_type": "display_data"
    }
   ],
   "source": [
    "sns.countplot(hue = df['company'], x = df['price'])"
   ]
  },
  {
   "cell_type": "markdown",
   "id": "a17963c0",
   "metadata": {},
   "source": [
    "## Encoding Categorical values"
   ]
  },
  {
   "cell_type": "code",
   "execution_count": 17,
   "id": "d6d32cc5",
   "metadata": {},
   "outputs": [],
   "source": [
    "from sklearn.preprocessing import LabelEncoder"
   ]
  },
  {
   "cell_type": "code",
   "execution_count": 18,
   "id": "907537e3",
   "metadata": {},
   "outputs": [
    {
     "data": {
      "text/plain": [
       "Index(['company', 'topping', 'variant', 'size', 'extra_sauce', 'extra_cheese',\n",
       "       'extra_mushrooms'],\n",
       "      dtype='object')"
      ]
     },
     "execution_count": 18,
     "metadata": {},
     "output_type": "execute_result"
    }
   ],
   "source": [
    "categorical_cols = df.select_dtypes(include=['object','bool']).columns\n",
    "categorical_cols"
   ]
  },
  {
   "cell_type": "code",
   "execution_count": 19,
   "id": "56bb8f26",
   "metadata": {},
   "outputs": [],
   "source": [
    "en = LabelEncoder()\n",
    "for i in categorical_cols:\n",
    "    df[i] = en.fit_transform(df[i])"
   ]
  },
  {
   "cell_type": "code",
   "execution_count": 20,
   "id": "84223880",
   "metadata": {
    "scrolled": true
   },
   "outputs": [
    {
     "data": {
      "text/html": [
       "<div>\n",
       "<style scoped>\n",
       "    .dataframe tbody tr th:only-of-type {\n",
       "        vertical-align: middle;\n",
       "    }\n",
       "\n",
       "    .dataframe tbody tr th {\n",
       "        vertical-align: top;\n",
       "    }\n",
       "\n",
       "    .dataframe thead th {\n",
       "        text-align: right;\n",
       "    }\n",
       "</style>\n",
       "<table border=\"1\" class=\"dataframe\">\n",
       "  <thead>\n",
       "    <tr style=\"text-align: right;\">\n",
       "      <th></th>\n",
       "      <th>company</th>\n",
       "      <th>price</th>\n",
       "      <th>diameter</th>\n",
       "      <th>topping</th>\n",
       "      <th>variant</th>\n",
       "      <th>size</th>\n",
       "      <th>extra_sauce</th>\n",
       "      <th>extra_cheese</th>\n",
       "      <th>extra_mushrooms</th>\n",
       "    </tr>\n",
       "  </thead>\n",
       "  <tbody>\n",
       "    <tr>\n",
       "      <th>0</th>\n",
       "      <td>0</td>\n",
       "      <td>29</td>\n",
       "      <td>22.0</td>\n",
       "      <td>2</td>\n",
       "      <td>8</td>\n",
       "      <td>1</td>\n",
       "      <td>0</td>\n",
       "      <td>0</td>\n",
       "      <td>0</td>\n",
       "    </tr>\n",
       "    <tr>\n",
       "      <th>1</th>\n",
       "      <td>0</td>\n",
       "      <td>25</td>\n",
       "      <td>20.0</td>\n",
       "      <td>7</td>\n",
       "      <td>8</td>\n",
       "      <td>1</td>\n",
       "      <td>0</td>\n",
       "      <td>0</td>\n",
       "      <td>0</td>\n",
       "    </tr>\n",
       "    <tr>\n",
       "      <th>2</th>\n",
       "      <td>0</td>\n",
       "      <td>19</td>\n",
       "      <td>16.0</td>\n",
       "      <td>5</td>\n",
       "      <td>8</td>\n",
       "      <td>4</td>\n",
       "      <td>0</td>\n",
       "      <td>0</td>\n",
       "      <td>0</td>\n",
       "    </tr>\n",
       "    <tr>\n",
       "      <th>3</th>\n",
       "      <td>0</td>\n",
       "      <td>22</td>\n",
       "      <td>14.0</td>\n",
       "      <td>9</td>\n",
       "      <td>8</td>\n",
       "      <td>4</td>\n",
       "      <td>0</td>\n",
       "      <td>0</td>\n",
       "      <td>0</td>\n",
       "    </tr>\n",
       "    <tr>\n",
       "      <th>4</th>\n",
       "      <td>0</td>\n",
       "      <td>30</td>\n",
       "      <td>18.0</td>\n",
       "      <td>4</td>\n",
       "      <td>8</td>\n",
       "      <td>1</td>\n",
       "      <td>0</td>\n",
       "      <td>0</td>\n",
       "      <td>0</td>\n",
       "    </tr>\n",
       "  </tbody>\n",
       "</table>\n",
       "</div>"
      ],
      "text/plain": [
       "   company  price  diameter  topping  variant  size  extra_sauce  \\\n",
       "0        0     29      22.0        2        8     1            0   \n",
       "1        0     25      20.0        7        8     1            0   \n",
       "2        0     19      16.0        5        8     4            0   \n",
       "3        0     22      14.0        9        8     4            0   \n",
       "4        0     30      18.0        4        8     1            0   \n",
       "\n",
       "   extra_cheese  extra_mushrooms  \n",
       "0             0                0  \n",
       "1             0                0  \n",
       "2             0                0  \n",
       "3             0                0  \n",
       "4             0                0  "
      ]
     },
     "execution_count": 20,
     "metadata": {},
     "output_type": "execute_result"
    }
   ],
   "source": [
    "df.head()"
   ]
  },
  {
   "cell_type": "markdown",
   "id": "54f8420d",
   "metadata": {},
   "source": [
    "## Split the Data"
   ]
  },
  {
   "cell_type": "code",
   "execution_count": 21,
   "id": "376b3b85",
   "metadata": {},
   "outputs": [],
   "source": [
    "X = df.drop('price',axis=1)\n",
    "Y = df['price']"
   ]
  },
  {
   "cell_type": "markdown",
   "id": "107f1087",
   "metadata": {},
   "source": [
    "### Standardization "
   ]
  },
  {
   "cell_type": "code",
   "execution_count": 22,
   "id": "af889fa7",
   "metadata": {},
   "outputs": [],
   "source": [
    "from sklearn.preprocessing import StandardScaler\n",
    "scaler = StandardScaler()\n",
    "x_scaled=scaler.fit_transform(X)"
   ]
  },
  {
   "cell_type": "code",
   "execution_count": 23,
   "id": "477da97d",
   "metadata": {},
   "outputs": [
    {
     "data": {
      "text/plain": [
       "((103, 8), (103,), (26, 8), (26,))"
      ]
     },
     "execution_count": 23,
     "metadata": {},
     "output_type": "execute_result"
    }
   ],
   "source": [
    "from sklearn.model_selection import train_test_split\n",
    "X_train,X_test,y_train,y_test = train_test_split(x_scaled,Y,test_size=0.2, random_state=42)\n",
    "X_train.shape,y_train.shape,X_test.shape,y_test.shape"
   ]
  },
  {
   "cell_type": "markdown",
   "id": "6796c8b4",
   "metadata": {},
   "source": [
    "## Model Fitting"
   ]
  },
  {
   "cell_type": "code",
   "execution_count": 24,
   "id": "b9404f27",
   "metadata": {},
   "outputs": [],
   "source": [
    "from sklearn.linear_model import LinearRegression\n",
    "from sklearn.tree import DecisionTreeRegressor\n",
    "from sklearn.ensemble import RandomForestRegressor,GradientBoostingRegressor\n",
    "from sklearn.neighbors import KNeighborsRegressor\n",
    "from sklearn.svm import SVR\n",
    "from sklearn.metrics import r2_score,mean_absolute_error,mean_squared_error"
   ]
  },
  {
   "cell_type": "code",
   "execution_count": 25,
   "id": "d621c7a4",
   "metadata": {},
   "outputs": [
    {
     "name": "stdout",
     "output_type": "stream",
     "text": [
      "Model is: LinearRegression()\n",
      "Training score : 0.7688575728429711\n",
      "Predictions are : [12.39563736 14.32108859 15.61885159 12.12359428 15.28183791 15.03052604\n",
      " 16.67425929 13.53282642  9.03930153 14.36283264 11.62591553 16.95154011\n",
      " 12.41559125 20.82414203 15.92632761 11.24519271 15.20252862 17.74368834\n",
      " 17.01022332 25.42486613 15.75073503 21.14460374 14.01196483 17.26816277\n",
      " 11.53556478 16.29212292]\n",
      "R2 score is : 0.690307889418855\n",
      "MAE : 1.8249572327213042\n",
      "MSE : 6.81872392587243\n",
      "RMSE : 2.611268642991837\n",
      "           Model Name  R2 score       MAE       MSE      RMSE\n",
      "0  LinearRegression()  0.690308  1.824957  6.818724  2.611269\n",
      "Model is: DecisionTreeRegressor(max_depth=4)\n",
      "Training score : 0.9125205328582009\n",
      "Predictions are : [15.         13.05882353 14.28571429 10.75       15.16666667 14.83333333\n",
      " 16.76190476 17.28571429 14.28571429 13.05882353 10.75       16.76190476\n",
      " 10.75       20.         16.76190476 10.75       17.28571429 16.76190476\n",
      " 15.16666667 28.         14.28571429 20.         13.05882353 15.16666667\n",
      " 10.75       16.76190476]\n",
      "R2 score is : 0.7109693421687882\n",
      "MAE : 1.6080316742081449\n",
      "MSE : 6.3638051940233105\n",
      "RMSE : 2.5226583585621163\n",
      "                           Model Name  R2 score       MAE       MSE      RMSE\n",
      "0                  LinearRegression()  0.690308  1.824957  6.818724  2.611269\n",
      "1  DecisionTreeRegressor(max_depth=4)  0.710969  1.608032  6.363805  2.522658\n",
      "Model is: RandomForestRegressor(max_depth=6, n_estimators=90, random_state=73)\n",
      "Training score : 0.9587845938823755\n",
      "Predictions are : [12.67299383 13.51808298 15.22248922 10.8929321  14.67746352 14.32060193\n",
      " 16.78024748 16.2965709  14.89194907 13.28450004 10.99288801 15.4500258\n",
      " 10.61734568 22.02111111 15.15574316 11.26353054 17.87363926 17.85417384\n",
      " 15.20070066 26.98888889 15.20149682 20.57666667 13.2780144  16.14664021\n",
      " 12.51018519 15.38014605]\n",
      "R2 score is : 0.8350313148020063\n",
      "MAE : 1.2345448001647592\n",
      "MSE : 3.6322395125546407\n",
      "RMSE : 1.905843517331536\n",
      "                                          Model Name  R2 score       MAE  \\\n",
      "0                                 LinearRegression()  0.690308  1.824957   \n",
      "1                 DecisionTreeRegressor(max_depth=4)  0.710969  1.608032   \n",
      "2  (DecisionTreeRegressor(max_depth=6, max_featur...  0.835031  1.234545   \n",
      "\n",
      "        MSE      RMSE  \n",
      "0  6.818724  2.611269  \n",
      "1  6.363805  2.522658  \n",
      "2  3.632240  1.905844  \n",
      "Model is: GradientBoostingRegressor(n_estimators=50, random_state=37)\n",
      "Training score : 0.9529665091849567\n",
      "Predictions are : [13.6867453  13.11571888 15.47990466 11.66315964 14.74640167 14.68638496\n",
      " 16.61125628 15.75181225 13.89144947 13.10193429 11.66315964 15.02909894\n",
      " 11.63498796 23.14742686 15.43765268 10.57279543 17.77094405 17.47085153\n",
      " 15.47246886 27.36168012 15.60404587 20.80098245 13.62120805 16.21241469\n",
      " 11.32515761 14.50896061]\n",
      "R2 score is : 0.8689279245062563\n",
      "MAE : 1.1004163354856102\n",
      "MSE : 2.885912384095977\n",
      "RMSE : 1.6987973346152792\n",
      "                                          Model Name  R2 score       MAE  \\\n",
      "0                                 LinearRegression()  0.690308  1.824957   \n",
      "1                 DecisionTreeRegressor(max_depth=4)  0.710969  1.608032   \n",
      "2  (DecisionTreeRegressor(max_depth=6, max_featur...  0.835031  1.234545   \n",
      "3  ([DecisionTreeRegressor(criterion='friedman_ms...  0.868928  1.100416   \n",
      "\n",
      "        MSE      RMSE  \n",
      "0  6.818724  2.611269  \n",
      "1  6.363805  2.522658  \n",
      "2  3.632240  1.905844  \n",
      "3  2.885912  1.698797  \n",
      "Model is: KNeighborsRegressor(n_neighbors=9)\n",
      "Training score : 0.6127446895060076\n",
      "Predictions are : [12.66666667 13.77777778 15.55555556 12.33333333 13.44444444 14.66666667\n",
      " 15.55555556 13.66666667 13.11111111 13.77777778 11.44444444 15.55555556\n",
      " 12.11111111 22.11111111 14.33333333 11.77777778 15.55555556 18.33333333\n",
      " 16.88888889 20.88888889 16.33333333 20.33333333 13.77777778 17.88888889\n",
      " 12.66666667 14.22222222]\n",
      "R2 score is : 0.7207855979243598\n",
      "MAE : 1.6196581196581192\n",
      "MSE : 6.147673314339982\n",
      "RMSE : 2.4794502040452397\n",
      "                                          Model Name  R2 score       MAE  \\\n",
      "0                                 LinearRegression()  0.690308  1.824957   \n",
      "1                 DecisionTreeRegressor(max_depth=4)  0.710969  1.608032   \n",
      "2  (DecisionTreeRegressor(max_depth=6, max_featur...  0.835031  1.234545   \n",
      "3  ([DecisionTreeRegressor(criterion='friedman_ms...  0.868928  1.100416   \n",
      "4                 KNeighborsRegressor(n_neighbors=9)  0.720786  1.619658   \n",
      "\n",
      "        MSE      RMSE  \n",
      "0  6.818724  2.611269  \n",
      "1  6.363805  2.522658  \n",
      "2  3.632240  1.905844  \n",
      "3  2.885912  1.698797  \n",
      "4  6.147673  2.479450  \n",
      "Model is: SVR()\n",
      "Training score : 0.6841855660707026\n",
      "Predictions are : [13.68480075 14.70415333 15.78670295 12.20051288 15.83742606 15.39906109\n",
      " 16.56906    14.28646822 12.85866018 14.68421123 11.39754195 17.13015125\n",
      " 12.54972505 20.59607391 16.36773298 11.78468461 15.5079205  18.1290706\n",
      " 17.21171914 19.02749508 15.70668289 18.3558735  14.49651195 17.00912931\n",
      " 13.09323904 17.11488653]\n",
      "R2 score is : 0.5602665048767324\n",
      "MAE : 2.146583663095844\n",
      "MSE : 9.681942812743664\n",
      "RMSE : 3.1115820433894497\n",
      "                                          Model Name  R2 score       MAE  \\\n",
      "0                                 LinearRegression()  0.690308  1.824957   \n",
      "1                 DecisionTreeRegressor(max_depth=4)  0.710969  1.608032   \n",
      "2  (DecisionTreeRegressor(max_depth=6, max_featur...  0.835031  1.234545   \n",
      "3  ([DecisionTreeRegressor(criterion='friedman_ms...  0.868928  1.100416   \n",
      "4                 KNeighborsRegressor(n_neighbors=9)  0.720786  1.619658   \n",
      "5                                              SVR()  0.560267  2.146584   \n",
      "\n",
      "        MSE      RMSE  \n",
      "0  6.818724  2.611269  \n",
      "1  6.363805  2.522658  \n",
      "2  3.632240  1.905844  \n",
      "3  2.885912  1.698797  \n",
      "4  6.147673  2.479450  \n",
      "5  9.681943  3.111582  \n"
     ]
    },
    {
     "name": "stderr",
     "output_type": "stream",
     "text": [
      "C:\\Users\\bhava\\AppData\\Local\\Temp\\ipykernel_11032\\596706682.py:29: FutureWarning: The frame.append method is deprecated and will be removed from pandas in a future version. Use pandas.concat instead.\n",
      "  res = res.append(model_dict,ignore_index=True)\n",
      "C:\\Users\\bhava\\AppData\\Local\\Temp\\ipykernel_11032\\596706682.py:29: FutureWarning: The frame.append method is deprecated and will be removed from pandas in a future version. Use pandas.concat instead.\n",
      "  res = res.append(model_dict,ignore_index=True)\n",
      "C:\\Users\\bhava\\AppData\\Local\\Temp\\ipykernel_11032\\596706682.py:29: FutureWarning: The frame.append method is deprecated and will be removed from pandas in a future version. Use pandas.concat instead.\n",
      "  res = res.append(model_dict,ignore_index=True)\n",
      "C:\\Users\\bhava\\AppData\\Local\\Temp\\ipykernel_11032\\596706682.py:29: FutureWarning: The frame.append method is deprecated and will be removed from pandas in a future version. Use pandas.concat instead.\n",
      "  res = res.append(model_dict,ignore_index=True)\n",
      "C:\\Users\\bhava\\AppData\\Local\\Temp\\ipykernel_11032\\596706682.py:29: FutureWarning: The frame.append method is deprecated and will be removed from pandas in a future version. Use pandas.concat instead.\n",
      "  res = res.append(model_dict,ignore_index=True)\n",
      "C:\\Users\\bhava\\AppData\\Local\\Temp\\ipykernel_11032\\596706682.py:29: FutureWarning: The frame.append method is deprecated and will be removed from pandas in a future version. Use pandas.concat instead.\n",
      "  res = res.append(model_dict,ignore_index=True)\n"
     ]
    }
   ],
   "source": [
    "res = pd.DataFrame()\n",
    "\n",
    "lr = LinearRegression()\n",
    "tree = DecisionTreeRegressor(max_depth = 4)\n",
    "rf = RandomForestRegressor(max_depth = 6, n_estimators = 90, random_state = 73)\n",
    "gb = GradientBoostingRegressor(max_depth = 3, n_estimators = 50, random_state = 37)\n",
    "knn = KNeighborsRegressor(n_neighbors= 9)\n",
    "svr=SVR()\n",
    "\n",
    "Models = [lr,tree,rf,gb,knn,svr]\n",
    "\n",
    "for model in Models:\n",
    "    print('Model is: {}'.format(model))\n",
    "    m = model.fit(X_train,y_train)\n",
    "    print('Training score : {}'.format(m.score(X_train,y_train)))\n",
    "    prediction = m.predict(X_test)\n",
    "    print('Predictions are : {}'.format(prediction))\n",
    "    r2score = r2_score(y_test,prediction)\n",
    "    print('R2 score is : {}'.format(r2score))\n",
    "\n",
    "    mae = mean_absolute_error(y_test,prediction)\n",
    "    mse = mean_squared_error(y_test,prediction)\n",
    "    rmse = np.sqrt(mean_squared_error(y_test,prediction))\n",
    "    print('MAE : {}'.format(mae))\n",
    "    print('MSE : {}'.format(mse))\n",
    "    print('RMSE : {}'.format(rmse))\n",
    "\n",
    "    model_dict = {'Model Name' : model, 'R2 score':r2score,'MAE' : mae,'MSE' : mse,'RMSE' : rmse}\n",
    "    res = res.append(model_dict,ignore_index=True)\n",
    "    print(res)\n",
    "    "
   ]
  },
  {
   "cell_type": "markdown",
   "id": "f6286bbe",
   "metadata": {},
   "source": [
    "## Comparing The models"
   ]
  },
  {
   "cell_type": "code",
   "execution_count": 26,
   "id": "b9bdd155",
   "metadata": {},
   "outputs": [
    {
     "data": {
      "text/html": [
       "<div>\n",
       "<style scoped>\n",
       "    .dataframe tbody tr th:only-of-type {\n",
       "        vertical-align: middle;\n",
       "    }\n",
       "\n",
       "    .dataframe tbody tr th {\n",
       "        vertical-align: top;\n",
       "    }\n",
       "\n",
       "    .dataframe thead th {\n",
       "        text-align: right;\n",
       "    }\n",
       "</style>\n",
       "<table border=\"1\" class=\"dataframe\">\n",
       "  <thead>\n",
       "    <tr style=\"text-align: right;\">\n",
       "      <th></th>\n",
       "      <th>Models</th>\n",
       "      <th>R2 score</th>\n",
       "      <th>MAE</th>\n",
       "      <th>MSE</th>\n",
       "      <th>RMSE</th>\n",
       "    </tr>\n",
       "  </thead>\n",
       "  <tbody>\n",
       "    <tr>\n",
       "      <th>3</th>\n",
       "      <td>GradientBoostingRegressor</td>\n",
       "      <td>0.868928</td>\n",
       "      <td>1.100416</td>\n",
       "      <td>2.885912</td>\n",
       "      <td>1.698797</td>\n",
       "    </tr>\n",
       "    <tr>\n",
       "      <th>2</th>\n",
       "      <td>RandomForestRegressor</td>\n",
       "      <td>0.835031</td>\n",
       "      <td>1.234545</td>\n",
       "      <td>3.632240</td>\n",
       "      <td>1.905844</td>\n",
       "    </tr>\n",
       "    <tr>\n",
       "      <th>4</th>\n",
       "      <td>KNeighborsRegressor</td>\n",
       "      <td>0.720786</td>\n",
       "      <td>1.619658</td>\n",
       "      <td>6.147673</td>\n",
       "      <td>2.479450</td>\n",
       "    </tr>\n",
       "    <tr>\n",
       "      <th>1</th>\n",
       "      <td>DecisionTreeRegressor</td>\n",
       "      <td>0.710969</td>\n",
       "      <td>1.608032</td>\n",
       "      <td>6.363805</td>\n",
       "      <td>2.522658</td>\n",
       "    </tr>\n",
       "    <tr>\n",
       "      <th>0</th>\n",
       "      <td>LinearRegression</td>\n",
       "      <td>0.690308</td>\n",
       "      <td>1.824957</td>\n",
       "      <td>6.818724</td>\n",
       "      <td>2.611269</td>\n",
       "    </tr>\n",
       "    <tr>\n",
       "      <th>5</th>\n",
       "      <td>SVR</td>\n",
       "      <td>0.560267</td>\n",
       "      <td>2.146584</td>\n",
       "      <td>9.681943</td>\n",
       "      <td>3.111582</td>\n",
       "    </tr>\n",
       "  </tbody>\n",
       "</table>\n",
       "</div>"
      ],
      "text/plain": [
       "                      Models  R2 score       MAE       MSE      RMSE\n",
       "3  GradientBoostingRegressor  0.868928  1.100416  2.885912  1.698797\n",
       "2      RandomForestRegressor  0.835031  1.234545  3.632240  1.905844\n",
       "4        KNeighborsRegressor  0.720786  1.619658  6.147673  2.479450\n",
       "1      DecisionTreeRegressor  0.710969  1.608032  6.363805  2.522658\n",
       "0           LinearRegression  0.690308  1.824957  6.818724  2.611269\n",
       "5                        SVR  0.560267  2.146584  9.681943  3.111582"
      ]
     },
     "execution_count": 26,
     "metadata": {},
     "output_type": "execute_result"
    }
   ],
   "source": [
    "models = ['LinearRegression','DecisionTreeRegressor','RandomForestRegressor','GradientBoostingRegressor','KNeighborsRegressor','SVR']\n",
    "\n",
    "result = pd.DataFrame({'Models':models})\n",
    "result['R2 score'] = res['R2 score']\n",
    "result['MAE'] = res['MAE']\n",
    "result['MSE'] = res['MSE']\n",
    "result['RMSE'] = res['RMSE']\n",
    "result = result.sort_values(by='R2 score',ascending=False)\n",
    "result"
   ]
  },
  {
   "cell_type": "markdown",
   "id": "6974a88c",
   "metadata": {},
   "source": [
    "#### The Gradient Boosting Regresser has the highest R2 score of all the models used. "
   ]
  },
  {
   "cell_type": "markdown",
   "id": "b4377d6e",
   "metadata": {},
   "source": [
    "### Adding the predicted values to the database \n",
    " To check how weel the predicted value is calculated."
   ]
  },
  {
   "cell_type": "code",
   "execution_count": 27,
   "id": "0cdd9784",
   "metadata": {},
   "outputs": [],
   "source": [
    "df1=df"
   ]
  },
  {
   "cell_type": "code",
   "execution_count": 28,
   "id": "2681a3a9",
   "metadata": {},
   "outputs": [
    {
     "data": {
      "text/html": [
       "<div>\n",
       "<style scoped>\n",
       "    .dataframe tbody tr th:only-of-type {\n",
       "        vertical-align: middle;\n",
       "    }\n",
       "\n",
       "    .dataframe tbody tr th {\n",
       "        vertical-align: top;\n",
       "    }\n",
       "\n",
       "    .dataframe thead th {\n",
       "        text-align: right;\n",
       "    }\n",
       "</style>\n",
       "<table border=\"1\" class=\"dataframe\">\n",
       "  <thead>\n",
       "    <tr style=\"text-align: right;\">\n",
       "      <th></th>\n",
       "      <th>company</th>\n",
       "      <th>price</th>\n",
       "      <th>diameter</th>\n",
       "      <th>topping</th>\n",
       "      <th>variant</th>\n",
       "      <th>size</th>\n",
       "      <th>extra_sauce</th>\n",
       "      <th>extra_cheese</th>\n",
       "      <th>extra_mushrooms</th>\n",
       "      <th>Price_actual</th>\n",
       "      <th>Price_pred</th>\n",
       "    </tr>\n",
       "  </thead>\n",
       "  <tbody>\n",
       "    <tr>\n",
       "      <th>4</th>\n",
       "      <td>0</td>\n",
       "      <td>30</td>\n",
       "      <td>18.0</td>\n",
       "      <td>4</td>\n",
       "      <td>8</td>\n",
       "      <td>1</td>\n",
       "      <td>0</td>\n",
       "      <td>0</td>\n",
       "      <td>0</td>\n",
       "      <td>30</td>\n",
       "      <td>23.147427</td>\n",
       "    </tr>\n",
       "    <tr>\n",
       "      <th>10</th>\n",
       "      <td>0</td>\n",
       "      <td>20</td>\n",
       "      <td>18.5</td>\n",
       "      <td>4</td>\n",
       "      <td>17</td>\n",
       "      <td>1</td>\n",
       "      <td>0</td>\n",
       "      <td>0</td>\n",
       "      <td>0</td>\n",
       "      <td>20</td>\n",
       "      <td>20.800982</td>\n",
       "    </tr>\n",
       "    <tr>\n",
       "      <th>11</th>\n",
       "      <td>0</td>\n",
       "      <td>18</td>\n",
       "      <td>16.0</td>\n",
       "      <td>1</td>\n",
       "      <td>17</td>\n",
       "      <td>1</td>\n",
       "      <td>0</td>\n",
       "      <td>0</td>\n",
       "      <td>0</td>\n",
       "      <td>18</td>\n",
       "      <td>16.212415</td>\n",
       "    </tr>\n",
       "    <tr>\n",
       "      <th>18</th>\n",
       "      <td>0</td>\n",
       "      <td>16</td>\n",
       "      <td>12.0</td>\n",
       "      <td>5</td>\n",
       "      <td>13</td>\n",
       "      <td>4</td>\n",
       "      <td>0</td>\n",
       "      <td>0</td>\n",
       "      <td>0</td>\n",
       "      <td>16</td>\n",
       "      <td>15.604046</td>\n",
       "    </tr>\n",
       "    <tr>\n",
       "      <th>19</th>\n",
       "      <td>0</td>\n",
       "      <td>16</td>\n",
       "      <td>12.0</td>\n",
       "      <td>4</td>\n",
       "      <td>13</td>\n",
       "      <td>4</td>\n",
       "      <td>0</td>\n",
       "      <td>0</td>\n",
       "      <td>0</td>\n",
       "      <td>16</td>\n",
       "      <td>15.479905</td>\n",
       "    </tr>\n",
       "    <tr>\n",
       "      <th>26</th>\n",
       "      <td>1</td>\n",
       "      <td>12</td>\n",
       "      <td>12.0</td>\n",
       "      <td>2</td>\n",
       "      <td>4</td>\n",
       "      <td>3</td>\n",
       "      <td>0</td>\n",
       "      <td>0</td>\n",
       "      <td>0</td>\n",
       "      <td>12</td>\n",
       "      <td>13.101934</td>\n",
       "    </tr>\n",
       "    <tr>\n",
       "      <th>27</th>\n",
       "      <td>1</td>\n",
       "      <td>14</td>\n",
       "      <td>14.0</td>\n",
       "      <td>9</td>\n",
       "      <td>4</td>\n",
       "      <td>2</td>\n",
       "      <td>0</td>\n",
       "      <td>0</td>\n",
       "      <td>0</td>\n",
       "      <td>14</td>\n",
       "      <td>15.029099</td>\n",
       "    </tr>\n",
       "    <tr>\n",
       "      <th>31</th>\n",
       "      <td>1</td>\n",
       "      <td>11</td>\n",
       "      <td>8.5</td>\n",
       "      <td>5</td>\n",
       "      <td>4</td>\n",
       "      <td>5</td>\n",
       "      <td>0</td>\n",
       "      <td>0</td>\n",
       "      <td>0</td>\n",
       "      <td>11</td>\n",
       "      <td>11.663160</td>\n",
       "    </tr>\n",
       "    <tr>\n",
       "      <th>36</th>\n",
       "      <td>1</td>\n",
       "      <td>19</td>\n",
       "      <td>12.0</td>\n",
       "      <td>9</td>\n",
       "      <td>6</td>\n",
       "      <td>3</td>\n",
       "      <td>0</td>\n",
       "      <td>0</td>\n",
       "      <td>0</td>\n",
       "      <td>19</td>\n",
       "      <td>17.770944</td>\n",
       "    </tr>\n",
       "    <tr>\n",
       "      <th>40</th>\n",
       "      <td>1</td>\n",
       "      <td>15</td>\n",
       "      <td>12.0</td>\n",
       "      <td>2</td>\n",
       "      <td>5</td>\n",
       "      <td>3</td>\n",
       "      <td>0</td>\n",
       "      <td>0</td>\n",
       "      <td>0</td>\n",
       "      <td>15</td>\n",
       "      <td>13.115719</td>\n",
       "    </tr>\n",
       "  </tbody>\n",
       "</table>\n",
       "</div>"
      ],
      "text/plain": [
       "    company  price  diameter  topping  variant  size  extra_sauce  \\\n",
       "4         0     30      18.0        4        8     1            0   \n",
       "10        0     20      18.5        4       17     1            0   \n",
       "11        0     18      16.0        1       17     1            0   \n",
       "18        0     16      12.0        5       13     4            0   \n",
       "19        0     16      12.0        4       13     4            0   \n",
       "26        1     12      12.0        2        4     3            0   \n",
       "27        1     14      14.0        9        4     2            0   \n",
       "31        1     11       8.5        5        4     5            0   \n",
       "36        1     19      12.0        9        6     3            0   \n",
       "40        1     15      12.0        2        5     3            0   \n",
       "\n",
       "    extra_cheese  extra_mushrooms  Price_actual  Price_pred  \n",
       "4              0                0            30   23.147427  \n",
       "10             0                0            20   20.800982  \n",
       "11             0                0            18   16.212415  \n",
       "18             0                0            16   15.604046  \n",
       "19             0                0            16   15.479905  \n",
       "26             0                0            12   13.101934  \n",
       "27             0                0            14   15.029099  \n",
       "31             0                0            11   11.663160  \n",
       "36             0                0            19   17.770944  \n",
       "40             0                0            15   13.115719  "
      ]
     },
     "execution_count": 28,
     "metadata": {},
     "output_type": "execute_result"
    }
   ],
   "source": [
    "gb.fit(X_train,y_train)\n",
    "y_pred = gb.predict(X_test)\n",
    "\n",
    "out = pd.DataFrame({'Price_actual':y_test,'Price_pred':y_pred})\n",
    "res = df1.merge(out,left_index=True,right_index=True)\n",
    "res.head(10)"
   ]
  }
 ],
 "metadata": {
  "kernelspec": {
   "display_name": "Python 3 (ipykernel)",
   "language": "python",
   "name": "python3"
  },
  "language_info": {
   "codemirror_mode": {
    "name": "ipython",
    "version": 3
   },
   "file_extension": ".py",
   "mimetype": "text/x-python",
   "name": "python",
   "nbconvert_exporter": "python",
   "pygments_lexer": "ipython3",
   "version": "3.11.3"
  }
 },
 "nbformat": 4,
 "nbformat_minor": 5
}
